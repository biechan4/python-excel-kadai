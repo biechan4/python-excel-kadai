{
  "nbformat": 4,
  "nbformat_minor": 0,
  "metadata": {
    "colab": {
      "provenance": []
    },
    "kernelspec": {
      "name": "python3",
      "display_name": "Python 3"
    },
    "language_info": {
      "name": "python"
    }
  },
  "cells": [
    {
      "cell_type": "code",
      "execution_count": 12,
      "metadata": {
        "colab": {
          "base_uri": "https://localhost:8080/"
        },
        "id": "xoT7v75E_fJE",
        "outputId": "41831efb-e3f0-4351-a473-6f9fa28bec79"
      },
      "outputs": [
        {
          "output_type": "stream",
          "name": "stdout",
          "text": [
            "処理が完了しました: 売上集計表.xlsx\n"
          ]
        }
      ],
      "source": [
        "import pandas as pd\n",
        "from openpyxl import load_workbook\n",
        "from openpyxl.styles import Font, PatternFill\n",
        "from openpyxl.utils import get_column_letter # openpyxlで列番号をアルファベットに変換するために必要\n",
        "import re #正規表現モジュール使用　日本語と半角を調べる用\n",
        "\n",
        "\n",
        "# Excelファイルの読み込み（Sheet1を対象）\n",
        "df_2022 = pd.read_excel('2022_年間売上表.xlsx', sheet_name='Sheet1')\n",
        "\n",
        "df_2023 = pd.read_excel('2023_年間売上表.xlsx', sheet_name='Sheet1')\n",
        "\n",
        "\n",
        "# データを連結\n",
        "df_all = pd.concat([df_2022, df_2023], ignore_index=True)\n",
        "\n",
        "# 「商品」「売上年」ごとに金額を合計\n",
        "grouped_df = df_all.groupby(['商品', '売上年'], as_index=False)['金額（千円）'].sum()\n",
        "\n",
        "# 新しいExcelファイルに書き込み\n",
        "output_file = '売上集計表.xlsx'\n",
        "grouped_df.to_excel(output_file, index=False)\n",
        "\n",
        "# ヘッダーの色付け（#F2F2F2）処理\n",
        "wb = load_workbook(output_file)\n",
        "ws = wb.active\n",
        "\n",
        "# ヘッダー行を薄いグレーに塗る\n",
        "fill = PatternFill(start_color='F2F2F2', end_color='F2F2F2', fill_type='solid')\n",
        "for cell in ws[1]:\n",
        "    cell.fill = fill\n",
        "\n",
        "# 列情報取得\n",
        "num_cols = len(grouped_df.columns)\n",
        "\n",
        "# 文字幅の見積り関数（日本語考慮）\n",
        "def get_adjusted_length(value):\n",
        "    text = str(value)\n",
        "    # 全角文字（漢字・ひらがな・カタカナなど）は幅2、半角は幅1と仮定\n",
        "    return sum(2 if re.match(r'[^\\x00-\\x7F]', ch) else 1 for ch in text)\n",
        "\n",
        "# 各列に対して最大の文字幅を計算して列幅設定\n",
        "for col_num in range(1, num_cols + 1):\n",
        "    max_length = 0\n",
        "    for row in ws.iter_rows(min_row=1, max_row=ws.max_row, min_col=col_num, max_col=col_num):\n",
        "        for cell in row:\n",
        "            if cell.value:\n",
        "                max_length = max(max_length, get_adjusted_length(cell.value))\n",
        "    adjusted_width = (max_length + 2)\n",
        "    ws.column_dimensions[get_column_letter(col_num)].width = adjusted_width\n",
        "\n",
        "# 「金額」列の列番号を取得（ヘッダーから検索）\n",
        "for col in range(1, ws.max_column + 1):\n",
        "    if ws.cell(row=1, column=col).value == '金額（千円）':\n",
        "        amount_col_letter = get_column_letter(col)\n",
        "        for row in range(2, ws.max_row + 1):  # データ行に適用\n",
        "            ws[f'{amount_col_letter}{row}'].number_format = '#,##0'\n",
        "        break\n",
        "\n",
        "# 保存\n",
        "wb.save(output_file)\n",
        "print(f\"処理が完了しました: {output_file}\")\n"
      ]
    }
  ]
}