{
  "nbformat": 4,
  "nbformat_minor": 0,
  "metadata": {
    "colab": {
      "provenance": []
    },
    "kernelspec": {
      "name": "python3",
      "display_name": "Python 3"
    },
    "language_info": {
      "name": "python"
    }
  },
  "cells": [
    {
      "cell_type": "code",
      "execution_count": 24,
      "metadata": {
        "colab": {
          "base_uri": "https://localhost:8080/"
        },
        "id": "nNmAx5SLUYtw",
        "outputId": "9367e3e4-d2aa-4289-bcb9-73012333f8b4"
      },
      "outputs": [
        {
          "output_type": "stream",
          "name": "stdout",
          "text": [
            "Requirement already satisfied: numpy==1.24.4 in /usr/local/lib/python3.11/dist-packages (1.24.4)\n",
            "Requirement already satisfied: pandas==1.5.3 in /usr/local/lib/python3.11/dist-packages (1.5.3)\n",
            "Requirement already satisfied: openpyxl==3.0.10 in /usr/local/lib/python3.11/dist-packages (3.0.10)\n",
            "Requirement already satisfied: python-dateutil>=2.8.1 in /usr/local/lib/python3.11/dist-packages (from pandas==1.5.3) (2.9.0.post0)\n",
            "Requirement already satisfied: pytz>=2020.1 in /usr/local/lib/python3.11/dist-packages (from pandas==1.5.3) (2025.2)\n",
            "Requirement already satisfied: et-xmlfile in /usr/local/lib/python3.11/dist-packages (from openpyxl==3.0.10) (2.0.0)\n",
            "Requirement already satisfied: six>=1.5 in /usr/local/lib/python3.11/dist-packages (from python-dateutil>=2.8.1->pandas==1.5.3) (1.17.0)\n"
          ]
        }
      ],
      "source": [
        "import openpyxl\n",
        "!pip install numpy==1.24.4 pandas==1.5.3 openpyxl==3.0.10\n",
        "import pandas as pd\n",
        "from openpyxl import load_workbook\n",
        "from openpyxl.utils import get_column_letter # openpyxlで列番号をアルファベットに変換するために必要\n",
        "import re #正規表現モジュール使用　日本語と半角を調べる用\n",
        "from openpyxl.styles import Alignment #中央ぞろえ用\n",
        "\n",
        "# データのファイルパス\n",
        "file_path = 'python-excel-kadai2.txt'\n",
        "\n",
        "# タブ区切りで読み込む\n",
        "df = pd.read_csv(file_path, sep='\\t')\n",
        "\n",
        "# データフレームを表示\n",
        "#print(df)\n",
        "\n",
        "# is_numeric_dtype で数値型かチェックする\n",
        "if pd.api.types.is_numeric_dtype(df['売上']):\n",
        "    avarage_sales = df['売上'].mean()\n",
        "else:\n",
        "    print(\"警告: '売上' 列が数値型ではありません。平均計算をスキップします。\")\n",
        "    avarage_sales = None # 平均が計算できない場合はNone\n",
        "\n",
        "\n",
        "# 業績ランクを算出\n",
        "# avarage_sales がNoneでないか確認\n",
        "def rank(sales):\n",
        "    result = ''\n",
        "    if avarage_sales is not None:\n",
        "        if sales >= avarage_sales + 50 :\n",
        "            result = 'A'\n",
        "        elif sales == avarage_sales:\n",
        "            result = 'B'\n",
        "        else:\n",
        "            result = 'C'\n",
        "    else:\n",
        "        result = 'N/A' # 平均がない場合はランク付けできない\n",
        "    return result\n",
        "\n",
        "# avarage_sales が計算できた場合のみ「平均売上」と「業績ランク」を追加\n",
        "if avarage_sales is not None:\n",
        "    df['平均売上'] = avarage_sales\n",
        "    df['業績ランク'] = df['売上'].apply(rank)\n",
        "\n",
        "# データフレームを表示（確認用）\n",
        "#print(\"\\n加工後のDataFrame:\")\n",
        "#print(df)\n",
        "\n",
        "# 一度Excelに出力\n",
        "output_path = '業績.xlsx'\n",
        "df.to_excel(output_path, sheet_name='Sheet1', index=False, engine='openpyxl')\n",
        "\n",
        "# openpyxlで列幅調整\n",
        "wb = load_workbook(output_path)\n",
        "ws = wb.active\n",
        "\n",
        "# 列情報取得\n",
        "num_cols = len(df.columns)\n",
        "\n",
        "# 文字幅の見積り関数（日本語考慮）\n",
        "def get_adjusted_length(value):\n",
        "    text = str(value)\n",
        "    # 全角文字（漢字・ひらがな・カタカナなど）は幅2、半角は幅1と仮定\n",
        "    return sum(2 if re.match(r'[^\\x00-\\x7F]', ch) else 1 for ch in text)\n",
        "\n",
        "# 各列に対して最大の文字幅を計算して列幅設定\n",
        "for col_num in range(1, num_cols + 1):\n",
        "    max_length = 0\n",
        "    for row in ws.iter_rows(min_row=1, max_row=ws.max_row, min_col=col_num, max_col=col_num):\n",
        "        for cell in row:\n",
        "            if cell.value:\n",
        "                max_length = max(max_length, get_adjusted_length(cell.value))\n",
        "    adjusted_width = (max_length + 2) * 1.2\n",
        "    ws.column_dimensions[get_column_letter(col_num)].width = adjusted_width\n",
        "\n",
        "# 中央揃えにしたい列名（売上・平均売上は除外）\n",
        "exclude_columns = ['売上', '平均売上']\n",
        "\n",
        "for col_idx, col_name in enumerate(df.columns, 1):\n",
        "    if col_name in exclude_columns:\n",
        "        continue  # 除外する列はスキップ\n",
        "\n",
        "    # 該当列のすべてのセルを中央揃えにする\n",
        "    for row in ws.iter_rows(min_row=2, max_row=ws.max_row, min_col=col_idx, max_col=col_idx):\n",
        "        for cell in row:\n",
        "            cell.alignment = Alignment(horizontal='center')\n",
        "\n",
        "# 上書き保存\n",
        "wb.save(output_path)\n",
        "\n",
        "\n",
        "\n"
      ]
    }
  ]
}